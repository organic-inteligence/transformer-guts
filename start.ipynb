{
 "cells": [
  {
   "cell_type": "code",
   "execution_count": 2,
   "metadata": {},
   "outputs": [
    {
     "name": "stderr",
     "output_type": "stream",
     "text": [
      "/home/codespace/.python/current/lib/python3.10/site-packages/tqdm/auto.py:21: TqdmWarning: IProgress not found. Please update jupyter and ipywidgets. See https://ipywidgets.readthedocs.io/en/stable/user_install.html\n",
      "  from .autonotebook import tqdm as notebook_tqdm\n",
      "Downloading (…)lve/main/config.json: 100%|██████████| 571/571 [00:00<00:00, 2.62MB/s]\n",
      "Downloading model.safetensors: 100%|██████████| 1.34G/1.34G [00:09<00:00, 143MB/s]\n",
      "Some weights of the model checkpoint at bert-large-uncased were not used when initializing BertForMaskedLM: ['bert.pooler.dense.weight', 'cls.seq_relationship.bias', 'bert.pooler.dense.bias', 'cls.seq_relationship.weight']\n",
      "- This IS expected if you are initializing BertForMaskedLM from the checkpoint of a model trained on another task or with another architecture (e.g. initializing a BertForSequenceClassification model from a BertForPreTraining model).\n",
      "- This IS NOT expected if you are initializing BertForMaskedLM from the checkpoint of a model that you expect to be exactly identical (initializing a BertForSequenceClassification model from a BertForSequenceClassification model).\n",
      "Downloading (…)solve/main/vocab.txt: 100%|██████████| 232k/232k [00:00<00:00, 916kB/s] \n",
      "Downloading (…)okenizer_config.json: 100%|██████████| 28.0/28.0 [00:00<00:00, 140kB/s]\n"
     ]
    }
   ],
   "source": [
    "from transformers import BertTokenizer, BertForMaskedLM\n",
    "import torch\n",
    "\n",
    "# Download the BertForMaskedLM model\n",
    "model = BertForMaskedLM.from_pretrained(\"bert-large-uncased\")\n",
    "model.eval()\n",
    "\n",
    "tokenizer = BertTokenizer.from_pretrained(\"bert-large-uncased\")\n",
    "\n",
    "def string_TO_id(original_sequence):\n",
    "    # Tokenize the input sequence to obtain the input_ids\n",
    "    input_ids = tokenizer(original_sequence, return_tensors=\"pt\")['input_ids']\n",
    "    return input_ids\n",
    "\n",
    "def id_TO_raw_embedding(input_ids):\n",
    "    # Retrieve the raw embeddings using the model's embedding layer\n",
    "    raw_embeddings = model.get_input_embeddings()(input_ids)\n",
    "    return raw_embeddings\n",
    "\n",
    "def raw_embeddings_to_final_hidden_layer(input_embeddings):\n",
    "    # Pass the embeddings through the model up to the final hidden layer\n",
    "    with torch.no_grad():\n",
    "        # The last hidden state is the final hidden layer\n",
    "        final_hidden_layer = model.bert(inputs_embeds=input_embeddings)[0]\n",
    "    return final_hidden_layer\n",
    "\n",
    "def final_hidden_layer_to_logits(final_hidden_layer):\n",
    "    # Apply the linear transformation (projection head) to get logits\n",
    "    logits = model.cls(final_hidden_layer)\n",
    "    return logits\n",
    "\n"
   ]
  },
  {
   "cell_type": "code",
   "execution_count": 3,
   "metadata": {},
   "outputs": [],
   "source": [
    "ids = string_TO_id(\"To be or not to see, that is the question.\")"
   ]
  },
  {
   "cell_type": "code",
   "execution_count": 5,
   "metadata": {},
   "outputs": [],
   "source": [
    "raw = id_TO_raw_embedding(ids)"
   ]
  },
  {
   "cell_type": "code",
   "execution_count": 6,
   "metadata": {},
   "outputs": [],
   "source": [
    "ca_embed = raw_embeddings_to_final_hidden_layer(raw)"
   ]
  },
  {
   "cell_type": "code",
   "execution_count": 7,
   "metadata": {},
   "outputs": [],
   "source": [
    "logits = final_hidden_layer_to_logits(ca_embed)"
   ]
  },
  {
   "cell_type": "code",
   "execution_count": null,
   "metadata": {},
   "outputs": [],
   "source": [
    "12:19"
   ]
  }
 ],
 "metadata": {
  "kernelspec": {
   "display_name": "Python 3",
   "language": "python",
   "name": "python3"
  },
  "language_info": {
   "codemirror_mode": {
    "name": "ipython",
    "version": 3
   },
   "file_extension": ".py",
   "mimetype": "text/x-python",
   "name": "python",
   "nbconvert_exporter": "python",
   "pygments_lexer": "ipython3",
   "version": "3.10.8"
  },
  "orig_nbformat": 4
 },
 "nbformat": 4,
 "nbformat_minor": 2
}
