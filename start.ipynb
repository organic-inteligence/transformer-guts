{
 "cells": [
  {
   "cell_type": "code",
   "execution_count": 1,
   "metadata": {},
   "outputs": [
    {
     "ename": "ModuleNotFoundError",
     "evalue": "No module named 'transformers'",
     "output_type": "error",
     "traceback": [
      "\u001b[0;31m---------------------------------------------------------------------------\u001b[0m",
      "\u001b[0;31mModuleNotFoundError\u001b[0m                       Traceback (most recent call last)",
      "Cell \u001b[0;32mIn[1], line 1\u001b[0m\n\u001b[0;32m----> 1\u001b[0m \u001b[39mfrom\u001b[39;00m \u001b[39mtransformers\u001b[39;00m \u001b[39mimport\u001b[39;00m BertTokenizer, BertForMaskedLM\n\u001b[1;32m      2\u001b[0m \u001b[39mimport\u001b[39;00m \u001b[39mtorch\u001b[39;00m\n\u001b[1;32m      4\u001b[0m \u001b[39m# Download the BertForMaskedLM model\u001b[39;00m\n",
      "\u001b[0;31mModuleNotFoundError\u001b[0m: No module named 'transformers'"
     ]
    }
   ],
   "source": [
    "from transformers import BertTokenizer, BertForMaskedLM\n",
    "import torch\n",
    "\n",
    "# Download the BertForMaskedLM model\n",
    "model = BertForMaskedLM.from_pretrained(\"bert-large-uncased\")\n",
    "model.eval()\n",
    "\n",
    "tokenizer = BertTokenizer.from_pretrained(\"bert-large-uncased\")\n",
    "\n",
    "def string_TO_id(original_sequence):\n",
    "    # Tokenize the input sequence to obtain the input_ids\n",
    "    input_ids = tokenizer(original_sequence, return_tensors=\"pt\")['input_ids']\n",
    "    return input_ids\n",
    "\n",
    "def id_TO_raw_embedding(input_ids):\n",
    "    # Retrieve the raw embeddings using the model's embedding layer\n",
    "    raw_embeddings = model.get_input_embeddings()(input_ids)\n",
    "    return raw_embeddings\n",
    "\n",
    "def raw_embeddings_to_final_hidden_layer(input_embeddings):\n",
    "    # Pass the embeddings through the model up to the final hidden layer\n",
    "    with torch.no_grad():\n",
    "        # The last hidden state is the final hidden layer\n",
    "        final_hidden_layer = model.bert(inputs_embeds=input_embeddings)[0]\n",
    "    return final_hidden_layer\n",
    "\n",
    "def final_hidden_layer_to_logits(final_hidden_layer):\n",
    "    # Apply the linear transformation (projection head) to get logits\n",
    "    logits = model.cls(final_hidden_layer)\n",
    "    return logits\n",
    "\n"
   ]
  },
  {
   "cell_type": "code",
   "execution_count": null,
   "metadata": {},
   "outputs": [],
   "source": []
  }
 ],
 "metadata": {
  "kernelspec": {
   "display_name": "Python 3",
   "language": "python",
   "name": "python3"
  },
  "language_info": {
   "codemirror_mode": {
    "name": "ipython",
    "version": 3
   },
   "file_extension": ".py",
   "mimetype": "text/x-python",
   "name": "python",
   "nbconvert_exporter": "python",
   "pygments_lexer": "ipython3",
   "version": "3.10.8"
  },
  "orig_nbformat": 4
 },
 "nbformat": 4,
 "nbformat_minor": 2
}
